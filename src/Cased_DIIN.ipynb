{
  "cells": [
    {
      "cell_type": "code",
      "execution_count": null,
      "metadata": {
        "colab": {
          "base_uri": "https://localhost:8080/"
        },
        "id": "FsYWq-2_L20C",
        "outputId": "fae61af9-079f-4d04-f049-af8cc7e871b6"
      },
      "outputs": [
        {
          "name": "stdout",
          "output_type": "stream",
          "text": [
            "Drive already mounted at /content/gdrive; to attempt to forcibly remount, call drive.mount(\"/content/gdrive\", force_remount=True).\n"
          ]
        }
      ],
      "source": [
        "# from google.colab import drive\n",
        "# drive.mount(\"/content/gdrive\")\n",
        "# BASE = \"/content/gdrive/MyDrive/NLP_project/\"\n",
        "BASE = \"../data\""
      ]
    },
    {
      "cell_type": "code",
      "execution_count": null,
      "metadata": {
        "id": "szUWLykCTyAq"
      },
      "outputs": [],
      "source": [
        "from transformers import AutoTokenizer, AutoModel\n",
        "import torch\n",
        "from torch.utils.data import Dataset, DataLoader\n",
        "import torch.nn as nn\n",
        "import torch.nn.functional as F\n",
        "import pandas as pd"
      ]
    },
    {
      "cell_type": "code",
      "execution_count": null,
      "metadata": {
        "id": "_JIQjsi5xBDw"
      },
      "outputs": [],
      "source": [
        "device = torch.device(\"cuda\") if torch.cuda.is_available() else torch.device(\"cpu\")"
      ]
    },
    {
      "cell_type": "code",
      "execution_count": null,
      "metadata": {
        "colab": {
          "base_uri": "https://localhost:8080/"
        },
        "id": "x8H_BGsl-FjW",
        "outputId": "f5954589-693b-4d08-ef6c-0d41aa795b88"
      },
      "outputs": [
        {
          "name": "stdout",
          "output_type": "stream",
          "text": [
            "cuda\n"
          ]
        }
      ],
      "source": [
        "print(device)"
      ]
    },
    {
      "cell_type": "code",
      "execution_count": null,
      "metadata": {
        "id": "WuEGI1lnunwZ"
      },
      "outputs": [],
      "source": [
        "def load_data(path, include_neutral=True):\n",
        "    data = pd.read_csv(path, delimiter=\"\\t\")\n",
        "    data = data[data[\"gold_label\"] != \"-\"]\n",
        "    if not include_neutral:\n",
        "        data = data[data[\"gold_label\"] != \"neutral\"]\n",
        "    premise = data[\"sentence1\"].astype(str).tolist()\n",
        "    hypothesis = data[\"sentence2\"].astype(str).tolist()\n",
        "    labels = data[\"gold_label\"].astype(str).tolist()\n",
        "    return premise, hypothesis, labels"
      ]
    },
    {
      "cell_type": "code",
      "execution_count": null,
      "metadata": {
        "id": "_7gFcxb6rQ0K"
      },
      "outputs": [],
      "source": [
        "def labels_to_id(data):\n",
        "    for i in range(len(data)):\n",
        "        if data[i] == \"entailment\":\n",
        "            data[i] = 0\n",
        "        elif data[i] == \"neutral\":\n",
        "            data[i] = 1\n",
        "        else:\n",
        "            data[i] = 2\n",
        "    return data"
      ]
    },
    {
      "cell_type": "code",
      "execution_count": null,
      "metadata": {
        "id": "316-9QXluocX"
      },
      "outputs": [],
      "source": [
        "train_premise, train_hypothesis, train_labels = load_data(BASE + \"snli_1.0_train.txt\")\n",
        "dev_premise, dev_hypothesis, dev_labels = load_data(BASE + \"snli_1.0_dev.txt\")\n",
        "test_premise, test_hypothesis, test_labels = load_data(BASE + \"snli_1.0_test.txt\")"
      ]
    },
    {
      "cell_type": "code",
      "execution_count": null,
      "metadata": {
        "id": "5oLJhdm-t2v9"
      },
      "outputs": [],
      "source": [
        "train_labels = torch.tensor(labels_to_id(train_labels))\n",
        "dev_labels = torch.tensor(labels_to_id(dev_labels))\n",
        "test_labels = torch.tensor(labels_to_id(test_labels))"
      ]
    },
    {
      "cell_type": "code",
      "execution_count": null,
      "metadata": {
        "id": "XjvwLRpT5-j2"
      },
      "outputs": [],
      "source": [
        "model_name = \"bert-base-cased\""
      ]
    },
    {
      "cell_type": "code",
      "execution_count": null,
      "metadata": {
        "id": "VuP8I3UDT_5x"
      },
      "outputs": [],
      "source": [
        "tokenizer = AutoTokenizer.from_pretrained(model_name)"
      ]
    },
    {
      "cell_type": "code",
      "execution_count": null,
      "metadata": {
        "id": "tNo9Ig1xvOvk"
      },
      "outputs": [],
      "source": [
        "def get_encodings(sentences):\n",
        "    encodings = tokenizer(sentences, padding=True, truncation=True,\n",
        "                          max_length=64, return_tensors=\"pt\")\n",
        "    return {\n",
        "        \"input_ids\": encodings[\"input_ids\"],\n",
        "        \"attention_mask\": encodings[\"attention_mask\"]\n",
        "    }"
      ]
    },
    {
      "cell_type": "code",
      "execution_count": null,
      "metadata": {
        "id": "MAXer6RCWhjR"
      },
      "outputs": [],
      "source": [
        "train_premise_encodings = get_encodings(train_premise)\n",
        "train_hypothesis_encodings = get_encodings(train_hypothesis)\n",
        "dev_premise_encodings = get_encodings(dev_premise)\n",
        "dev_hypothesis_encodings = get_encodings(dev_hypothesis)\n",
        "test_premise_encodings = get_encodings(test_premise)\n",
        "test_hypothesis_encodings = get_encodings(test_hypothesis)"
      ]
    },
    {
      "cell_type": "code",
      "execution_count": null,
      "metadata": {
        "id": "NTyq5iZu0A2o"
      },
      "outputs": [],
      "source": [
        "class NLIDataset(Dataset):\n",
        "    def __init__(self, premise, hypothesis, labels):\n",
        "        self.premise = premise\n",
        "        self.hypothesis = hypothesis\n",
        "        self.labels = labels\n",
        "    \n",
        "    def __getitem__(self, idx):\n",
        "        return (\n",
        "            self.premise[\"input_ids\"][idx], self.premise[\"attention_mask\"][idx],\n",
        "            self.hypothesis[\"input_ids\"][idx], self.hypothesis[\"attention_mask\"][idx],\n",
        "            self.labels[idx]\n",
        "            )\n",
        "    \n",
        "    def __len__(self):\n",
        "        return len(self.labels)"
      ]
    },
    {
      "cell_type": "code",
      "execution_count": null,
      "metadata": {
        "id": "p8BKZpooJfkQ"
      },
      "outputs": [],
      "source": [
        "class NLIModel(nn.Module):\n",
        "    def __init__(self, output_size):\n",
        "        super(NLIModel, self).__init__()\n",
        "        self.embedding = AutoModel.from_pretrained(model_name,\n",
        "                                                   output_hidden_states=True).to(device)\n",
        "        self.output_size = output_size\n",
        "        self.feature_extractor = torch.hub.load(\"pytorch/vision:v0.10.0\",\n",
        "                                           \"densenet121\", pretrained=False).to(device)\n",
        "        self.conv = nn.Conv2d(3072, 3, 1)\n",
        "        self.output_layer = nn.Linear(1000, output_size)\n",
        "\n",
        "    def get_embeddings(self, encoding):\n",
        "        outputs = self.embedding(encoding[\"input_ids\"],\n",
        "                                 encoding[\"attention_mask\"])\n",
        "        hidden_states = outputs[2]\n",
        "        embeddings = torch.cat(hidden_states[-1:-5:-1], dim=2)\n",
        "        return embeddings\n",
        "    \n",
        "    def interaction(self, p, h):\n",
        "        p = torch.unsqueeze(p, dim=2)\n",
        "        h = torch.unsqueeze(h, dim=1)\n",
        "        return p*h\n",
        "\n",
        "    def forward(self, premise, hypothesis):\n",
        "        p_embedding = self.get_embeddings(premise) # batch, p, d\n",
        "        h_embedding = self.get_embeddings(hypothesis) # batch, h, d\n",
        "        interaction_output = self.interaction(p_embedding, h_embedding)\n",
        "        feature_extractor_input = self.conv(torch.permute(interaction_output, [0, 3, 1, 2]))\n",
        "        features = self.feature_extractor(feature_extractor_input)\n",
        "        return self.output_layer(features)"
      ]
    },
    {
      "cell_type": "code",
      "execution_count": null,
      "metadata": {
        "id": "cmj6GIcA0AFY"
      },
      "outputs": [],
      "source": [
        "def validate(model, dev_dataloader, loss_func):\n",
        "    model.eval()\n",
        "    with torch.no_grad():\n",
        "        avg_loss = 0\n",
        "        correct = 0\n",
        "        total = 0\n",
        "        for batch in dev_dataloader:\n",
        "            p = {\n",
        "                \"input_ids\": batch[0].to(device),\n",
        "                \"attention_mask\": batch[1].to(device)\n",
        "            }\n",
        "            h = {\n",
        "                \"input_ids\": batch[2].to(device),\n",
        "                \"attention_mask\": batch[3].to(device)\n",
        "            }\n",
        "            y = batch[4].to(device)\n",
        "            y_preds = model(p, h)\n",
        "            preds = torch.argmax(y_preds, dim=1)\n",
        "            loss = loss_func(y_preds, y)\n",
        "            avg_loss += loss.item()\n",
        "            correct += (preds == y).sum().item()\n",
        "            total += y_preds.shape[0]\n",
        "        avg_loss /= len(dev_dataloader)\n",
        "        accuracy = correct / total\n",
        "        return avg_loss, accuracy"
      ]
    },
    {
      "cell_type": "code",
      "execution_count": null,
      "metadata": {
        "id": "3LrdngFdznYV"
      },
      "outputs": [],
      "source": [
        "def train(model, train_dataloader, dev_dataloader, num_epochs, lr, save_path):\n",
        "    optimizer = torch.optim.Adam(model.parameters(), lr=LR)\n",
        "    loss_func = nn.CrossEntropyLoss()\n",
        "    num_batches = len(train_dataloader)\n",
        "    one_fifth = num_batches // 30\n",
        "    best_dev_loss, _ = validate(model, dev_dataloader, loss_func)\n",
        "    for epoch in range(num_epochs):\n",
        "        model.train()\n",
        "        print(f\"Epoch {epoch+1}/{num_epochs}:\")\n",
        "        avg_loss = 0\n",
        "        correct = 0\n",
        "        total = 0\n",
        "        for i, batch in enumerate(train_dataloader):\n",
        "            p = {\n",
        "                \"input_ids\": batch[0].to(device),\n",
        "                \"attention_mask\": batch[1].to(device)\n",
        "            }\n",
        "            h = {\n",
        "                \"input_ids\": batch[2].to(device),\n",
        "                \"attention_mask\": batch[3].to(device)\n",
        "            }\n",
        "            y = batch[4].to(device)\n",
        "            y_preds = model(p, h)\n",
        "            preds = torch.argmax(y_preds, dim=1)\n",
        "            loss = loss_func(y_preds, y)\n",
        "            avg_loss += loss.item()\n",
        "            correct += (preds == y).sum().item()\n",
        "            total += y_preds.shape[0]\n",
        "            optimizer.zero_grad()\n",
        "            loss.backward()\n",
        "            torch.nn.utils.clip_grad_norm_(model.parameters(), 1.0)\n",
        "            optimizer.step()\n",
        "            if (i+1) % one_fifth == 0:\n",
        "                print(f\"Loss so far ({i+1}/{num_batches}):\", avg_loss / (i+1))\n",
        "                print(\"Accuracy:\", correct / total)\n",
        "        print(\"\\nAverage Training Loss:\", avg_loss / num_batches)\n",
        "        print(\"Accuracy:\", correct / total)\n",
        "        dev_loss, dev_acc = validate(model, dev_dataloader, loss_func)\n",
        "        if dev_loss < best_dev_loss:\n",
        "            torch.save(model.state_dict(), save_path)\n",
        "            best_dev_loss = dev_loss\n",
        "        print(\"\\nAverage Validation Loss:\", dev_loss)\n",
        "        print(\"Accuracy:\", dev_acc)\n",
        "        print()\n",
        "    return model"
      ]
    },
    {
      "cell_type": "code",
      "execution_count": null,
      "metadata": {
        "id": "p6rEEOhgSAYV"
      },
      "outputs": [],
      "source": [
        "train_dataset = NLIDataset(train_premise_encodings, train_hypothesis_encodings,\n",
        "                           train_labels)\n",
        "dev_dataset = NLIDataset(dev_premise_encodings, dev_hypothesis_encodings,\n",
        "                         dev_labels)\n",
        "test_dataset = NLIDataset(test_premise_encodings, test_hypothesis_encodings,\n",
        "                          test_labels)\n",
        "train_dataloader = DataLoader(train_dataset, batch_size=32, shuffle=True)\n",
        "dev_dataloader = DataLoader(dev_dataset, batch_size=32)\n",
        "test_dataloader = DataLoader(test_dataset, batch_size=32)"
      ]
    },
    {
      "cell_type": "code",
      "execution_count": null,
      "metadata": {
        "colab": {
          "base_uri": "https://localhost:8080/"
        },
        "id": "NVIbHD-xRX_l",
        "outputId": "8893265b-2065-4142-c1cc-c3df4469845f"
      },
      "outputs": [
        {
          "name": "stderr",
          "output_type": "stream",
          "text": [
            "Some weights of the model checkpoint at bert-base-cased were not used when initializing BertModel: ['cls.predictions.transform.dense.bias', 'cls.predictions.decoder.weight', 'cls.predictions.transform.LayerNorm.bias', 'cls.predictions.bias', 'cls.predictions.transform.LayerNorm.weight', 'cls.seq_relationship.bias', 'cls.predictions.transform.dense.weight', 'cls.seq_relationship.weight']\n",
            "- This IS expected if you are initializing BertModel from the checkpoint of a model trained on another task or with another architecture (e.g. initializing a BertForSequenceClassification model from a BertForPreTraining model).\n",
            "- This IS NOT expected if you are initializing BertModel from the checkpoint of a model that you expect to be exactly identical (initializing a BertForSequenceClassification model from a BertForSequenceClassification model).\n",
            "Using cache found in /root/.cache/torch/hub/pytorch_vision_v0.10.0\n"
          ]
        }
      ],
      "source": [
        "model = NLIModel(3).to(device)\n",
        "# model.load_state_dict(torch.load(BASE + \"DIIN.pt\", map_location=device))"
      ]
    },
    {
      "cell_type": "code",
      "execution_count": null,
      "metadata": {
        "id": "1PrqVZPgGMIE"
      },
      "outputs": [],
      "source": [
        "# test_loss, test_acc = validate(model, test_dataloader, nn.CrossEntropyLoss())"
      ]
    },
    {
      "cell_type": "code",
      "execution_count": null,
      "metadata": {
        "colab": {
          "base_uri": "https://localhost:8080/"
        },
        "id": "Paz2obpeMVmx",
        "outputId": "c395c4a0-601f-41d5-a736-ef5f400b85ec"
      },
      "outputs": [
        {
          "name": "stdout",
          "output_type": "stream",
          "text": [
            "0.5582170556344893 0.7894951140065146\n"
          ]
        }
      ],
      "source": [
        "# print(test_loss, test_acc)"
      ]
    },
    {
      "cell_type": "code",
      "execution_count": null,
      "metadata": {
        "id": "iUuSUyBMqAJY"
      },
      "outputs": [],
      "source": [
        "NUM_EPOCHS = 2\n",
        "LR = 1e-5"
      ]
    },
    {
      "cell_type": "code",
      "execution_count": null,
      "metadata": {
        "id": "P-7zzC-_1M6R"
      },
      "outputs": [],
      "source": [
        "save_path = BASE + \"DIIN.pt\"\n",
        "model = train(model, train_dataloader, dev_dataloader, NUM_EPOCHS, LR, save_path)"
      ]
    },
    {
      "cell_type": "code",
      "execution_count": null,
      "metadata": {
        "colab": {
          "base_uri": "https://localhost:8080/"
        },
        "id": "7yHAs_O3z1mt",
        "outputId": "ec76c6d2-2baa-429e-f6e5-24adb6331ea9"
      },
      "outputs": [
        {
          "name": "stderr",
          "output_type": "stream",
          "text": [
            "Some weights of the model checkpoint at bert-base-uncased were not used when initializing BertModel: ['cls.predictions.transform.dense.weight', 'cls.predictions.transform.LayerNorm.bias', 'cls.predictions.transform.dense.bias', 'cls.predictions.decoder.weight', 'cls.predictions.transform.LayerNorm.weight', 'cls.predictions.bias', 'cls.seq_relationship.weight', 'cls.seq_relationship.bias']\n",
            "- This IS expected if you are initializing BertModel from the checkpoint of a model trained on another task or with another architecture (e.g. initializing a BertForSequenceClassification model from a BertForPreTraining model).\n",
            "- This IS NOT expected if you are initializing BertModel from the checkpoint of a model that you expect to be exactly identical (initializing a BertForSequenceClassification model from a BertForSequenceClassification model).\n",
            "Using cache found in /root/.cache/torch/hub/pytorch_vision_v0.10.0\n"
          ]
        },
        {
          "data": {
            "text/plain": [
              "<All keys matched successfully>"
            ]
          },
          "execution_count": 28,
          "metadata": {},
          "output_type": "execute_result"
        }
      ],
      "source": [
        "loaded_model = NLIModel(3).to(device)\n",
        "loaded_model.load_state_dict(torch.load(BASE + \"DIIN.pt\", map_location=device))"
      ]
    },
    {
      "cell_type": "code",
      "execution_count": null,
      "metadata": {
        "id": "-Ix4WFfV0GB2"
      },
      "outputs": [],
      "source": [
        "test_labels = []\n",
        "pred_labels = []\n",
        "correct = 0\n",
        "total = 0\n",
        "loaded_model.eval()\n",
        "label_types = [0, 1, 2]\n",
        "confusion_matrix = {label_type: {label: 0 for label in label_types} for\n",
        "                    label_type in label_types}\n",
        "with torch.no_grad():\n",
        "    for batch in test_dataloader:\n",
        "        p = {\n",
        "                \"input_ids\": batch[0].to(device),\n",
        "                \"attention_mask\": batch[1].to(device)\n",
        "        }\n",
        "        h = {\n",
        "                \"input_ids\": batch[2].to(device),\n",
        "                \"attention_mask\": batch[3].to(device)\n",
        "        }\n",
        "        y = batch[4].to(device)\n",
        "        y_preds = loaded_model(p, h)\n",
        "        y_preds = torch.argmax(y_preds, dim=1)\n",
        "        correct += (y_preds == y).sum().item()\n",
        "        total += y_preds.shape[0]\n",
        "        test_labels.extend(y.cpu().tolist())\n",
        "        pred_labels.extend(y_preds.cpu().tolist())\n",
        "        \n",
        "accuracy = correct / total\n",
        "with open(\"accuracy_cased.txt\", \"w\") as file:\n",
        "    file.write(f\"{accuracy}\")"
      ]
    },
    {
      "cell_type": "code",
      "execution_count": null,
      "metadata": {
        "id": "YIkhMeES0tS1"
      },
      "outputs": [],
      "source": [
        "label_types = [0, 1, 2]\n",
        "labels = [\"Entailment\", \"Neutral\", \"Contradiction\"]\n",
        "confusion_matrix = {label_type: {label: 0 for label in label_types} for\n",
        "                    label_type in label_types}\n",
        "for i in range(len(test_labels)):\n",
        "        confusion_matrix[pred_labels[i]][test_labels[i]] += 1\n",
        "metrics = (\"precision\", \"Recall\", \"F1-Score\", \"Support\")\n",
        "results = {label_type: {metric: 0 for metric in metrics} for label_type in label_types}\n",
        "for Type in label_types:\n",
        "        TP = confusion_matrix[Type][Type]\n",
        "        FP = 0\n",
        "        FN = 0\n",
        "        for other in label_types:\n",
        "            if Type != other:\n",
        "                FP += confusion_matrix[Type][other]\n",
        "                FN += confusion_matrix[other][Type]\n",
        "        results[Type][metrics[0]] = TP / (TP + FP)\n",
        "        results[Type][metrics[1]] = TP / (TP + FN)\n",
        "        results[Type][metrics[2]] = (2 * results[Type][metrics[0]] * results[Type][metrics[1]]) /\\\n",
        "                                    (results[Type][metrics[0]] + results[Type][metrics[1]])\n",
        "        results[Type][metrics[3]] = 0\n",
        "        for other in label_types:\n",
        "            results[Type][metrics[3]] += confusion_matrix[other][Type]\n",
        "results_df = {}\n",
        "for metric in metrics:\n",
        "    results_df[metric] = []\n",
        "    for label_type in label_types:\n",
        "        results_df[metric].append(results[label_type][metric])\n",
        "results_df = pd.DataFrame(results_df, index=labels)\n",
        "results_df.to_csv(\"results_cased.csv\")"
      ]
    },
    {
      "cell_type": "code",
      "execution_count": null,
      "metadata": {
        "colab": {
          "base_uri": "https://localhost:8080/",
          "height": 143
        },
        "id": "EjCQ6Unn2qlb",
        "outputId": "26c8a7d6-1ffe-49e9-e1f7-a8106d49efc8"
      },
      "outputs": [
        {
          "data": {
            "text/html": [
              "\n",
              "  <div id=\"df-863009b4-0f77-401f-8883-325e549c42c2\">\n",
              "    <div class=\"colab-df-container\">\n",
              "      <div>\n",
              "<style scoped>\n",
              "    .dataframe tbody tr th:only-of-type {\n",
              "        vertical-align: middle;\n",
              "    }\n",
              "\n",
              "    .dataframe tbody tr th {\n",
              "        vertical-align: top;\n",
              "    }\n",
              "\n",
              "    .dataframe thead th {\n",
              "        text-align: right;\n",
              "    }\n",
              "</style>\n",
              "<table border=\"1\" class=\"dataframe\">\n",
              "  <thead>\n",
              "    <tr style=\"text-align: right;\">\n",
              "      <th></th>\n",
              "      <th>precision</th>\n",
              "      <th>Recall</th>\n",
              "      <th>F1-Score</th>\n",
              "      <th>Support</th>\n",
              "    </tr>\n",
              "  </thead>\n",
              "  <tbody>\n",
              "    <tr>\n",
              "      <th>Entailment</th>\n",
              "      <td>0.785714</td>\n",
              "      <td>0.916667</td>\n",
              "      <td>0.846154</td>\n",
              "      <td>12</td>\n",
              "    </tr>\n",
              "    <tr>\n",
              "      <th>Neutral</th>\n",
              "      <td>0.875000</td>\n",
              "      <td>0.777778</td>\n",
              "      <td>0.823529</td>\n",
              "      <td>9</td>\n",
              "    </tr>\n",
              "    <tr>\n",
              "      <th>Contradiction</th>\n",
              "      <td>0.800000</td>\n",
              "      <td>0.727273</td>\n",
              "      <td>0.761905</td>\n",
              "      <td>11</td>\n",
              "    </tr>\n",
              "  </tbody>\n",
              "</table>\n",
              "</div>\n",
              "      <button class=\"colab-df-convert\" onclick=\"convertToInteractive('df-863009b4-0f77-401f-8883-325e549c42c2')\"\n",
              "              title=\"Convert this dataframe to an interactive table.\"\n",
              "              style=\"display:none;\">\n",
              "        \n",
              "  <svg xmlns=\"http://www.w3.org/2000/svg\" height=\"24px\"viewBox=\"0 0 24 24\"\n",
              "       width=\"24px\">\n",
              "    <path d=\"M0 0h24v24H0V0z\" fill=\"none\"/>\n",
              "    <path d=\"M18.56 5.44l.94 2.06.94-2.06 2.06-.94-2.06-.94-.94-2.06-.94 2.06-2.06.94zm-11 1L8.5 8.5l.94-2.06 2.06-.94-2.06-.94L8.5 2.5l-.94 2.06-2.06.94zm10 10l.94 2.06.94-2.06 2.06-.94-2.06-.94-.94-2.06-.94 2.06-2.06.94z\"/><path d=\"M17.41 7.96l-1.37-1.37c-.4-.4-.92-.59-1.43-.59-.52 0-1.04.2-1.43.59L10.3 9.45l-7.72 7.72c-.78.78-.78 2.05 0 2.83L4 21.41c.39.39.9.59 1.41.59.51 0 1.02-.2 1.41-.59l7.78-7.78 2.81-2.81c.8-.78.8-2.07 0-2.86zM5.41 20L4 18.59l7.72-7.72 1.47 1.35L5.41 20z\"/>\n",
              "  </svg>\n",
              "      </button>\n",
              "      \n",
              "  <style>\n",
              "    .colab-df-container {\n",
              "      display:flex;\n",
              "      flex-wrap:wrap;\n",
              "      gap: 12px;\n",
              "    }\n",
              "\n",
              "    .colab-df-convert {\n",
              "      background-color: #E8F0FE;\n",
              "      border: none;\n",
              "      border-radius: 50%;\n",
              "      cursor: pointer;\n",
              "      display: none;\n",
              "      fill: #1967D2;\n",
              "      height: 32px;\n",
              "      padding: 0 0 0 0;\n",
              "      width: 32px;\n",
              "    }\n",
              "\n",
              "    .colab-df-convert:hover {\n",
              "      background-color: #E2EBFA;\n",
              "      box-shadow: 0px 1px 2px rgba(60, 64, 67, 0.3), 0px 1px 3px 1px rgba(60, 64, 67, 0.15);\n",
              "      fill: #174EA6;\n",
              "    }\n",
              "\n",
              "    [theme=dark] .colab-df-convert {\n",
              "      background-color: #3B4455;\n",
              "      fill: #D2E3FC;\n",
              "    }\n",
              "\n",
              "    [theme=dark] .colab-df-convert:hover {\n",
              "      background-color: #434B5C;\n",
              "      box-shadow: 0px 1px 3px 1px rgba(0, 0, 0, 0.15);\n",
              "      filter: drop-shadow(0px 1px 2px rgba(0, 0, 0, 0.3));\n",
              "      fill: #FFFFFF;\n",
              "    }\n",
              "  </style>\n",
              "\n",
              "      <script>\n",
              "        const buttonEl =\n",
              "          document.querySelector('#df-863009b4-0f77-401f-8883-325e549c42c2 button.colab-df-convert');\n",
              "        buttonEl.style.display =\n",
              "          google.colab.kernel.accessAllowed ? 'block' : 'none';\n",
              "\n",
              "        async function convertToInteractive(key) {\n",
              "          const element = document.querySelector('#df-863009b4-0f77-401f-8883-325e549c42c2');\n",
              "          const dataTable =\n",
              "            await google.colab.kernel.invokeFunction('convertToInteractive',\n",
              "                                                     [key], {});\n",
              "          if (!dataTable) return;\n",
              "\n",
              "          const docLinkHtml = 'Like what you see? Visit the ' +\n",
              "            '<a target=\"_blank\" href=https://colab.research.google.com/notebooks/data_table.ipynb>data table notebook</a>'\n",
              "            + ' to learn more about interactive tables.';\n",
              "          element.innerHTML = '';\n",
              "          dataTable['output_type'] = 'display_data';\n",
              "          await google.colab.output.renderOutput(dataTable, element);\n",
              "          const docLink = document.createElement('div');\n",
              "          docLink.innerHTML = docLinkHtml;\n",
              "          element.appendChild(docLink);\n",
              "        }\n",
              "      </script>\n",
              "    </div>\n",
              "  </div>\n",
              "  "
            ],
            "text/plain": [
              "               precision    Recall  F1-Score  Support\n",
              "Entailment      0.785714  0.916667  0.846154       12\n",
              "Neutral         0.875000  0.777778  0.823529        9\n",
              "Contradiction   0.800000  0.727273  0.761905       11"
            ]
          },
          "execution_count": 41,
          "metadata": {},
          "output_type": "execute_result"
        }
      ],
      "source": [
        "results_df"
      ]
    },
    {
      "cell_type": "code",
      "execution_count": null,
      "metadata": {
        "colab": {
          "base_uri": "https://localhost:8080/"
        },
        "id": "FqhPZvid3jrV",
        "outputId": "19beebd5-3e00-4527-ba83-30a8bb9081ec"
      },
      "outputs": [
        {
          "data": {
            "text/plain": [
              "0.8125"
            ]
          },
          "execution_count": 33,
          "metadata": {},
          "output_type": "execute_result"
        }
      ],
      "source": []
    },
    {
      "cell_type": "code",
      "execution_count": null,
      "metadata": {
        "id": "CjKOoOjB3ok3"
      },
      "outputs": [],
      "source": []
    }
  ],
  "metadata": {
    "accelerator": "GPU",
    "colab": {
      "collapsed_sections": [],
      "name": "Cased_DIIN.ipynb",
      "provenance": []
    },
    "kernelspec": {
      "display_name": "Python 3",
      "name": "python3"
    },
    "language_info": {
      "name": "python"
    }
  },
  "nbformat": 4,
  "nbformat_minor": 0
}
