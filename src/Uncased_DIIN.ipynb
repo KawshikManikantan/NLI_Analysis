{
 "cells": [
  {
   "cell_type": "code",
   "execution_count": 1,
   "metadata": {
    "colab": {
     "base_uri": "https://localhost:8080/"
    },
    "id": "FsYWq-2_L20C",
    "outputId": "f69bf701-6ca6-4a38-b766-47d097a57187"
   },
   "outputs": [],
   "source": [
    "BASE = \"../data\""
   ]
  },
  {
   "cell_type": "code",
   "execution_count": 2,
   "metadata": {
    "id": "szUWLykCTyAq"
   },
   "outputs": [],
   "source": [
    "from transformers import AutoTokenizer, AutoModel\n",
    "import torch\n",
    "from torch.utils.data import Dataset, DataLoader\n",
    "import torch.nn as nn\n",
    "import torch.nn.functional as F\n",
    "import pandas as pd\n",
    "from tqdm.auto import tqdm"
   ]
  },
  {
   "cell_type": "code",
   "execution_count": 3,
   "metadata": {
    "id": "_JIQjsi5xBDw"
   },
   "outputs": [],
   "source": [
    "device = torch.device(\"cuda\") if torch.cuda.is_available() else torch.device(\"cpu\")"
   ]
  },
  {
   "cell_type": "code",
   "execution_count": 4,
   "metadata": {
    "colab": {
     "base_uri": "https://localhost:8080/"
    },
    "id": "x8H_BGsl-FjW",
    "outputId": "0b33646c-449d-4ab1-b9c3-f29bce61d7a0"
   },
   "outputs": [
    {
     "name": "stdout",
     "output_type": "stream",
     "text": [
      "cuda\n"
     ]
    }
   ],
   "source": [
    "print(device)"
   ]
  },
  {
   "cell_type": "code",
   "execution_count": 5,
   "metadata": {
    "id": "WuEGI1lnunwZ"
   },
   "outputs": [],
   "source": [
    "def load_data(path, include_neutral=True):\n",
    "    data = pd.read_csv(path, delimiter=\"\\t\")\n",
    "    data = data[data[\"gold_label\"] != \"-\"]\n",
    "    if not include_neutral:\n",
    "        data = data[data[\"gold_label\"] != \"neutral\"]\n",
    "    premise = data[\"sentence1\"].astype(str).tolist()\n",
    "    hypothesis = data[\"sentence2\"].astype(str).tolist()\n",
    "    labels = data[\"gold_label\"].astype(str).tolist()\n",
    "    return premise, hypothesis, labels"
   ]
  },
  {
   "cell_type": "code",
   "execution_count": 6,
   "metadata": {
    "id": "_7gFcxb6rQ0K"
   },
   "outputs": [],
   "source": [
    "def labels_to_id(data):\n",
    "    for i in range(len(data)):\n",
    "        if data[i] == \"entailment\":\n",
    "            data[i] = 0\n",
    "        elif data[i] == \"neutral\":\n",
    "            data[i] = 1\n",
    "        else:\n",
    "            data[i] = 2\n",
    "    return data"
   ]
  },
  {
   "cell_type": "code",
   "execution_count": 7,
   "metadata": {
    "id": "316-9QXluocX"
   },
   "outputs": [],
   "source": [
    "train_premise, train_hypothesis, train_labels = load_data(BASE + \"snli_1.0_train.txt\")\n",
    "dev_premise, dev_hypothesis, dev_labels = load_data(BASE + \"snli_1.0_dev.txt\")\n",
    "test_premise, test_hypothesis, test_labels = load_data(BASE + \"snli_1.0_test.txt\")"
   ]
  },
  {
   "cell_type": "code",
   "execution_count": 8,
   "metadata": {
    "id": "5oLJhdm-t2v9"
   },
   "outputs": [],
   "source": [
    "train_labels = torch.tensor(labels_to_id(train_labels))\n",
    "dev_labels = torch.tensor(labels_to_id(dev_labels))\n",
    "test_labels = torch.tensor(labels_to_id(test_labels))"
   ]
  },
  {
   "cell_type": "code",
   "execution_count": 9,
   "metadata": {
    "id": "VuP8I3UDT_5x"
   },
   "outputs": [],
   "source": [
    "tokenizer = AutoTokenizer.from_pretrained(\"bert-base-uncased\")"
   ]
  },
  {
   "cell_type": "code",
   "execution_count": 10,
   "metadata": {
    "id": "tNo9Ig1xvOvk"
   },
   "outputs": [],
   "source": [
    "def get_encodings(sentences):\n",
    "    encodings = tokenizer(sentences, padding=True, truncation=True,\n",
    "                          max_length=64, return_tensors=\"pt\")\n",
    "    return {\n",
    "        \"input_ids\": encodings[\"input_ids\"],\n",
    "        \"attention_mask\": encodings[\"attention_mask\"]\n",
    "    }"
   ]
  },
  {
   "cell_type": "code",
   "execution_count": 11,
   "metadata": {
    "id": "MAXer6RCWhjR"
   },
   "outputs": [
    {
     "name": "stdout",
     "output_type": "stream",
     "text": [
      "Ignored unknown kwarg option direction\n",
      "Ignored unknown kwarg option direction\n",
      "Ignored unknown kwarg option direction\n",
      "Ignored unknown kwarg option direction\n",
      "Ignored unknown kwarg option direction\n",
      "Ignored unknown kwarg option direction\n"
     ]
    }
   ],
   "source": [
    "train_premise_encodings = get_encodings(train_premise)\n",
    "train_hypothesis_encodings = get_encodings(train_hypothesis)\n",
    "dev_premise_encodings = get_encodings(dev_premise)\n",
    "dev_hypothesis_encodings = get_encodings(dev_hypothesis)\n",
    "test_premise_encodings = get_encodings(test_premise)\n",
    "test_hypothesis_encodings = get_encodings(test_hypothesis)"
   ]
  },
  {
   "cell_type": "code",
   "execution_count": 12,
   "metadata": {
    "id": "NTyq5iZu0A2o"
   },
   "outputs": [],
   "source": [
    "class NLIDataset(Dataset):\n",
    "    def __init__(self, premise, hypothesis, labels):\n",
    "        self.premise = premise\n",
    "        self.hypothesis = hypothesis\n",
    "        self.labels = labels\n",
    "    \n",
    "    def __getitem__(self, idx):\n",
    "        return (\n",
    "            self.premise[\"input_ids\"][idx], self.premise[\"attention_mask\"][idx],\n",
    "            self.hypothesis[\"input_ids\"][idx], self.hypothesis[\"attention_mask\"][idx],\n",
    "            self.labels[idx]\n",
    "            )\n",
    "    \n",
    "    def __len__(self):\n",
    "        return len(self.labels)"
   ]
  },
  {
   "cell_type": "code",
   "execution_count": 13,
   "metadata": {
    "id": "p8BKZpooJfkQ"
   },
   "outputs": [],
   "source": [
    "class NLIModel(nn.Module):\n",
    "    def __init__(self, output_size):\n",
    "        super(NLIModel, self).__init__()\n",
    "        self.embedding = AutoModel.from_pretrained(\"bert-base-uncased\",\n",
    "                                                   output_hidden_states=True).to(device)\n",
    "        self.output_size = output_size\n",
    "        self.feature_extractor = torch.hub.load(\"pytorch/vision:v0.10.0\",\n",
    "                                           \"densenet121\", pretrained=False).to(device)\n",
    "        self.conv = nn.Conv2d(3072, 3, 1)\n",
    "        self.output_layer = nn.Linear(1000, output_size)\n",
    "\n",
    "    def get_embeddings(self, encoding):\n",
    "        outputs = self.embedding(encoding[\"input_ids\"],\n",
    "                                 encoding[\"attention_mask\"])\n",
    "        hidden_states = outputs[2]\n",
    "        embeddings = torch.cat(hidden_states[-1:-5:-1], dim=2)\n",
    "        return embeddings\n",
    "    \n",
    "    def interaction(self, p, h):\n",
    "        p = torch.unsqueeze(p, dim=2)\n",
    "        h = torch.unsqueeze(h, dim=1)\n",
    "        return p*h\n",
    "\n",
    "    def forward(self, premise, hypothesis):\n",
    "        p_embedding = self.get_embeddings(premise) # batch, p, d\n",
    "        h_embedding = self.get_embeddings(hypothesis) # batch, h, d\n",
    "        interaction_output = self.interaction(p_embedding, h_embedding)\n",
    "        feature_extractor_input = self.conv(torch.permute(interaction_output, [0, 3, 1, 2]))\n",
    "        features = self.feature_extractor(feature_extractor_input)\n",
    "        return self.output_layer(features)"
   ]
  },
  {
   "cell_type": "code",
   "execution_count": 14,
   "metadata": {
    "id": "cmj6GIcA0AFY"
   },
   "outputs": [],
   "source": [
    "def validate(model, dev_dataloader, loss_func):\n",
    "    model.eval()\n",
    "    with torch.no_grad():\n",
    "        avg_loss = 0\n",
    "        correct = 0\n",
    "        total = 0\n",
    "        for batch in dev_dataloader:\n",
    "            p = {\n",
    "                \"input_ids\": batch[0].to(device),\n",
    "                \"attention_mask\": batch[1].to(device)\n",
    "            }\n",
    "            h = {\n",
    "                \"input_ids\": batch[2].to(device),\n",
    "                \"attention_mask\": batch[3].to(device)\n",
    "            }\n",
    "            y = batch[4].to(device)\n",
    "            y_preds = model(p, h)\n",
    "            preds = torch.argmax(y_preds, dim=1)\n",
    "            loss = loss_func(y_preds, y)\n",
    "            avg_loss += loss.item()\n",
    "            correct += (preds == y).sum().item()\n",
    "            total += y_preds.shape[0]\n",
    "        avg_loss /= len(dev_dataloader)\n",
    "        accuracy = correct / total\n",
    "        return avg_loss, accuracy"
   ]
  },
  {
   "cell_type": "code",
   "execution_count": 15,
   "metadata": {
    "id": "3LrdngFdznYV"
   },
   "outputs": [],
   "source": [
    "def train(model, train_dataloader, dev_dataloader, num_epochs, lr, save_path):\n",
    "    optimizer = torch.optim.Adam(model.parameters(), lr=LR)\n",
    "    loss_func = nn.CrossEntropyLoss()\n",
    "    num_batches = len(train_dataloader)\n",
    "    one_fifth = num_batches // 30\n",
    "    best_dev_loss, _ = validate(model, dev_dataloader, loss_func)\n",
    "    for epoch in range(num_epochs):\n",
    "        model.train()\n",
    "        print(f\"Epoch {epoch+1}/{num_epochs}:\")\n",
    "        avg_loss = 0\n",
    "        correct = 0\n",
    "        total = 0\n",
    "        for i, batch in tqdm(enumerate(train_dataloader),total=len(train_dataloader)):\n",
    "            p = {\n",
    "                \"input_ids\": batch[0].to(device),\n",
    "                \"attention_mask\": batch[1].to(device)\n",
    "            }\n",
    "            h = {\n",
    "                \"input_ids\": batch[2].to(device),\n",
    "                \"attention_mask\": batch[3].to(device)\n",
    "            }\n",
    "            y = batch[4].to(device)\n",
    "            y_preds = model(p, h)\n",
    "            preds = torch.argmax(y_preds, dim=1)\n",
    "            loss = loss_func(y_preds, y)\n",
    "            avg_loss += loss.item()\n",
    "            correct += (preds == y).sum().item()\n",
    "            total += y_preds.shape[0]\n",
    "            optimizer.zero_grad()\n",
    "            loss.backward()\n",
    "            torch.nn.utils.clip_grad_norm_(model.parameters(), 1.0)\n",
    "            optimizer.step()\n",
    "            if (i+1) % one_fifth == 0:\n",
    "                print(f\"Loss so far ({i+1}/{num_batches}):\", avg_loss / (i+1))\n",
    "                print(\"Accuracy:\", correct / total)\n",
    "        print(\"\\nAverage Training Loss:\", avg_loss / num_batches)\n",
    "        print(\"Accuracy:\", correct / total)\n",
    "        dev_loss, dev_acc = validate(model, dev_dataloader, loss_func)\n",
    "        if dev_loss < best_dev_loss:\n",
    "            torch.save(model.state_dict(), save_path)\n",
    "            best_dev_loss = dev_loss\n",
    "        print(\"\\nAverage Validation Loss:\", dev_loss)\n",
    "        print(\"Accuracy:\", dev_acc)\n",
    "        print()\n",
    "    return model"
   ]
  },
  {
   "cell_type": "code",
   "execution_count": 16,
   "metadata": {
    "id": "p6rEEOhgSAYV"
   },
   "outputs": [],
   "source": [
    "train_dataset = NLIDataset(train_premise_encodings, train_hypothesis_encodings,\n",
    "                           train_labels)\n",
    "dev_dataset = NLIDataset(dev_premise_encodings, dev_hypothesis_encodings,\n",
    "                         dev_labels)\n",
    "test_dataset = NLIDataset(test_premise_encodings, test_hypothesis_encodings,\n",
    "                          test_labels)\n",
    "train_dataloader = DataLoader(train_dataset, batch_size=32, shuffle=True)\n",
    "dev_dataloader = DataLoader(dev_dataset, batch_size=32)\n",
    "test_dataloader = DataLoader(test_dataset, batch_size=32)"
   ]
  },
  {
   "cell_type": "code",
   "execution_count": 17,
   "metadata": {
    "colab": {
     "base_uri": "https://localhost:8080/"
    },
    "id": "NVIbHD-xRX_l",
    "outputId": "50252ef6-8a8b-4d21-c64c-04030b41ef96"
   },
   "outputs": [
    {
     "name": "stderr",
     "output_type": "stream",
     "text": [
      "Some weights of the model checkpoint at bert-base-uncased were not used when initializing BertModel: ['cls.seq_relationship.bias', 'cls.predictions.transform.dense.weight', 'cls.predictions.transform.LayerNorm.bias', 'cls.predictions.decoder.weight', 'cls.seq_relationship.weight', 'cls.predictions.bias', 'cls.predictions.transform.LayerNorm.weight', 'cls.predictions.transform.dense.bias']\n",
      "- This IS expected if you are initializing BertModel from the checkpoint of a model trained on another task or with another architecture (e.g. initializing a BertForSequenceClassification model from a BertForPreTraining model).\n",
      "- This IS NOT expected if you are initializing BertModel from the checkpoint of a model that you expect to be exactly identical (initializing a BertForSequenceClassification model from a BertForSequenceClassification model).\n",
      "Using cache found in /home2/kawshikmanikantan/.cache/torch/hub/pytorch_vision_v0.10.0\n"
     ]
    }
   ],
   "source": [
    "model = NLIModel(3).to(device)\n",
    "# model.load_state_dict(torch.load(BASE + \"DIIN.pt\", map_location=device))"
   ]
  },
  {
   "cell_type": "code",
   "execution_count": 18,
   "metadata": {
    "id": "1PrqVZPgGMIE"
   },
   "outputs": [],
   "source": [
    "# test_loss, test_acc = validate(model, test_dataloader, nn.CrossEntropyLoss())"
   ]
  },
  {
   "cell_type": "code",
   "execution_count": 19,
   "metadata": {
    "colab": {
     "base_uri": "https://localhost:8080/"
    },
    "id": "Paz2obpeMVmx",
    "outputId": "c395c4a0-601f-41d5-a736-ef5f400b85ec"
   },
   "outputs": [],
   "source": [
    "# print(test_loss, test_acc)"
   ]
  },
  {
   "cell_type": "code",
   "execution_count": 20,
   "metadata": {
    "id": "iUuSUyBMqAJY"
   },
   "outputs": [],
   "source": [
    "NUM_EPOCHS = 2\n",
    "LR = 1e-5"
   ]
  },
  {
   "cell_type": "code",
   "execution_count": 21,
   "metadata": {
    "colab": {
     "base_uri": "https://localhost:8080/"
    },
    "id": "P-7zzC-_1M6R",
    "outputId": "d5976b82-4f18-4d58-cedd-744461f4622f"
   },
   "outputs": [
    {
     "name": "stdout",
     "output_type": "stream",
     "text": [
      "Epoch 1/2:\n"
     ]
    },
    {
     "data": {
      "application/vnd.jupyter.widget-view+json": {
       "model_id": "afd803a96e91434aa61b7dab6cf35a32",
       "version_major": 2,
       "version_minor": 0
      },
      "text/plain": [
       "  0%|          | 0/17168 [00:00<?, ?it/s]"
      ]
     },
     "metadata": {},
     "output_type": "display_data"
    },
    {
     "ename": "KeyboardInterrupt",
     "evalue": "",
     "output_type": "error",
     "traceback": [
      "\u001b[0;31m---------------------------------------------------------------------------\u001b[0m",
      "\u001b[0;31mKeyboardInterrupt\u001b[0m                         Traceback (most recent call last)",
      "Input \u001b[0;32mIn [21]\u001b[0m, in \u001b[0;36m<cell line: 2>\u001b[0;34m()\u001b[0m\n\u001b[1;32m      1\u001b[0m save_path \u001b[38;5;241m=\u001b[39m BASE \u001b[38;5;241m+\u001b[39m \u001b[38;5;124m\"\u001b[39m\u001b[38;5;124mDIIN.pt\u001b[39m\u001b[38;5;124m\"\u001b[39m\n\u001b[0;32m----> 2\u001b[0m model \u001b[38;5;241m=\u001b[39m \u001b[43mtrain\u001b[49m\u001b[43m(\u001b[49m\u001b[43mmodel\u001b[49m\u001b[43m,\u001b[49m\u001b[43m \u001b[49m\u001b[43mtrain_dataloader\u001b[49m\u001b[43m,\u001b[49m\u001b[43m \u001b[49m\u001b[43mdev_dataloader\u001b[49m\u001b[43m,\u001b[49m\u001b[43m \u001b[49m\u001b[43mNUM_EPOCHS\u001b[49m\u001b[43m,\u001b[49m\u001b[43m \u001b[49m\u001b[43mLR\u001b[49m\u001b[43m,\u001b[49m\u001b[43m \u001b[49m\u001b[43msave_path\u001b[49m\u001b[43m)\u001b[49m\n",
      "Input \u001b[0;32mIn [15]\u001b[0m, in \u001b[0;36mtrain\u001b[0;34m(model, train_dataloader, dev_dataloader, num_epochs, lr, save_path)\u001b[0m\n\u001b[1;32m     28\u001b[0m total \u001b[38;5;241m+\u001b[39m\u001b[38;5;241m=\u001b[39m y_preds\u001b[38;5;241m.\u001b[39mshape[\u001b[38;5;241m0\u001b[39m]\n\u001b[1;32m     29\u001b[0m optimizer\u001b[38;5;241m.\u001b[39mzero_grad()\n\u001b[0;32m---> 30\u001b[0m \u001b[43mloss\u001b[49m\u001b[38;5;241;43m.\u001b[39;49m\u001b[43mbackward\u001b[49m\u001b[43m(\u001b[49m\u001b[43m)\u001b[49m\n\u001b[1;32m     31\u001b[0m torch\u001b[38;5;241m.\u001b[39mnn\u001b[38;5;241m.\u001b[39mutils\u001b[38;5;241m.\u001b[39mclip_grad_norm_(model\u001b[38;5;241m.\u001b[39mparameters(), \u001b[38;5;241m1.0\u001b[39m)\n\u001b[1;32m     32\u001b[0m optimizer\u001b[38;5;241m.\u001b[39mstep()\n",
      "File \u001b[0;32m~/miniconda3/envs/cvproj/lib/python3.9/site-packages/torch/_tensor.py:363\u001b[0m, in \u001b[0;36mTensor.backward\u001b[0;34m(self, gradient, retain_graph, create_graph, inputs)\u001b[0m\n\u001b[1;32m    354\u001b[0m \u001b[38;5;28;01mif\u001b[39;00m has_torch_function_unary(\u001b[38;5;28mself\u001b[39m):\n\u001b[1;32m    355\u001b[0m     \u001b[38;5;28;01mreturn\u001b[39;00m handle_torch_function(\n\u001b[1;32m    356\u001b[0m         Tensor\u001b[38;5;241m.\u001b[39mbackward,\n\u001b[1;32m    357\u001b[0m         (\u001b[38;5;28mself\u001b[39m,),\n\u001b[0;32m   (...)\u001b[0m\n\u001b[1;32m    361\u001b[0m         create_graph\u001b[38;5;241m=\u001b[39mcreate_graph,\n\u001b[1;32m    362\u001b[0m         inputs\u001b[38;5;241m=\u001b[39minputs)\n\u001b[0;32m--> 363\u001b[0m \u001b[43mtorch\u001b[49m\u001b[38;5;241;43m.\u001b[39;49m\u001b[43mautograd\u001b[49m\u001b[38;5;241;43m.\u001b[39;49m\u001b[43mbackward\u001b[49m\u001b[43m(\u001b[49m\u001b[38;5;28;43mself\u001b[39;49m\u001b[43m,\u001b[49m\u001b[43m \u001b[49m\u001b[43mgradient\u001b[49m\u001b[43m,\u001b[49m\u001b[43m \u001b[49m\u001b[43mretain_graph\u001b[49m\u001b[43m,\u001b[49m\u001b[43m \u001b[49m\u001b[43mcreate_graph\u001b[49m\u001b[43m,\u001b[49m\u001b[43m \u001b[49m\u001b[43minputs\u001b[49m\u001b[38;5;241;43m=\u001b[39;49m\u001b[43minputs\u001b[49m\u001b[43m)\u001b[49m\n",
      "File \u001b[0;32m~/miniconda3/envs/cvproj/lib/python3.9/site-packages/torch/autograd/__init__.py:173\u001b[0m, in \u001b[0;36mbackward\u001b[0;34m(tensors, grad_tensors, retain_graph, create_graph, grad_variables, inputs)\u001b[0m\n\u001b[1;32m    168\u001b[0m     retain_graph \u001b[38;5;241m=\u001b[39m create_graph\n\u001b[1;32m    170\u001b[0m \u001b[38;5;66;03m# The reason we repeat same the comment below is that\u001b[39;00m\n\u001b[1;32m    171\u001b[0m \u001b[38;5;66;03m# some Python versions print out the first line of a multi-line function\u001b[39;00m\n\u001b[1;32m    172\u001b[0m \u001b[38;5;66;03m# calls in the traceback and some print out the last line\u001b[39;00m\n\u001b[0;32m--> 173\u001b[0m \u001b[43mVariable\u001b[49m\u001b[38;5;241;43m.\u001b[39;49m\u001b[43m_execution_engine\u001b[49m\u001b[38;5;241;43m.\u001b[39;49m\u001b[43mrun_backward\u001b[49m\u001b[43m(\u001b[49m\u001b[43m  \u001b[49m\u001b[38;5;66;43;03m# Calls into the C++ engine to run the backward pass\u001b[39;49;00m\n\u001b[1;32m    174\u001b[0m \u001b[43m    \u001b[49m\u001b[43mtensors\u001b[49m\u001b[43m,\u001b[49m\u001b[43m \u001b[49m\u001b[43mgrad_tensors_\u001b[49m\u001b[43m,\u001b[49m\u001b[43m \u001b[49m\u001b[43mretain_graph\u001b[49m\u001b[43m,\u001b[49m\u001b[43m \u001b[49m\u001b[43mcreate_graph\u001b[49m\u001b[43m,\u001b[49m\u001b[43m \u001b[49m\u001b[43minputs\u001b[49m\u001b[43m,\u001b[49m\n\u001b[1;32m    175\u001b[0m \u001b[43m    \u001b[49m\u001b[43mallow_unreachable\u001b[49m\u001b[38;5;241;43m=\u001b[39;49m\u001b[38;5;28;43;01mTrue\u001b[39;49;00m\u001b[43m,\u001b[49m\u001b[43m \u001b[49m\u001b[43maccumulate_grad\u001b[49m\u001b[38;5;241;43m=\u001b[39;49m\u001b[38;5;28;43;01mTrue\u001b[39;49;00m\u001b[43m)\u001b[49m\n",
      "\u001b[0;31mKeyboardInterrupt\u001b[0m: "
     ]
    }
   ],
   "source": [
    "save_path = BASE + \"DIIN.pt\"\n",
    "model = train(model, train_dataloader, dev_dataloader, NUM_EPOCHS, LR, save_path)"
   ]
  },
  {
   "cell_type": "code",
   "execution_count": null,
   "metadata": {},
   "outputs": [],
   "source": []
  }
 ],
 "metadata": {
  "accelerator": "GPU",
  "colab": {
   "collapsed_sections": [],
   "name": "Copy of DIIN.ipynb",
   "provenance": []
  },
  "kernelspec": {
   "display_name": "Python 3 (ipykernel)",
   "language": "python",
   "name": "python3"
  },
  "language_info": {
   "codemirror_mode": {
    "name": "ipython",
    "version": 3
   },
   "file_extension": ".py",
   "mimetype": "text/x-python",
   "name": "python",
   "nbconvert_exporter": "python",
   "pygments_lexer": "ipython3",
   "version": "3.9.12"
  }
 },
 "nbformat": 4,
 "nbformat_minor": 1
}
